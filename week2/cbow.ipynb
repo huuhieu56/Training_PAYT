{
 "cells": [
  {
   "cell_type": "markdown",
   "id": "186373f7",
   "metadata": {},
   "source": [
    "# CBOW"
   ]
  },
  {
   "cell_type": "markdown",
   "id": "aafad44f",
   "metadata": {},
   "source": [
    "- import libraries"
   ]
  },
  {
   "cell_type": "code",
   "execution_count": 21,
   "id": "9dc289e2",
   "metadata": {},
   "outputs": [],
   "source": [
    "import torch\n",
    "import torch.nn as nn\n",
    "import torch.optim as optim\n",
    "from torch.utils.data import Dataset, DataLoader\n",
    "from sklearn.decomposition import PCA\n",
    "import numpy as np\n",
    "import matplotlib.pyplot as plt\n",
    "from sklearn.preprocessing import LabelEncoder\n",
    "from collections import Counter\n",
    "from tensorflow.keras.preprocessing.text import Tokenizer"
   ]
  },
  {
   "cell_type": "code",
   "execution_count": 22,
   "id": "d1a69bef",
   "metadata": {},
   "outputs": [],
   "source": [
    "# Define the corpus\n",
    "corpus = ['The cat sat on the mat',\n",
    "          'The dog ran in the park',\n",
    "          'The bird sang in the tree']\n"
   ]
  },
  {
   "cell_type": "code",
   "execution_count": 23,
   "id": "685e7b31",
   "metadata": {},
   "outputs": [
    {
     "name": "stdout",
     "output_type": "stream",
     "text": [
      "Sequences of words in the corpus: [[1, 3, 4, 5, 1, 6], [1, 7, 8, 2, 1, 9], [1, 10, 11, 2, 1, 12]]\n"
     ]
    }
   ],
   "source": [
    "tokenizer = Tokenizer()\n",
    "tokenizer.fit_on_texts(corpus)\n",
    "sequences = tokenizer.texts_to_sequences(corpus)\n",
    "\n",
    "print(\"Sequences of words in the corpus:\", sequences)\n"
   ]
  },
  {
   "cell_type": "code",
   "execution_count": 24,
   "id": "dde7f1f6",
   "metadata": {},
   "outputs": [],
   "source": [
    "# Parameters\n",
    "vocab_size = len(tokenizer.word_index) + 1  # Vocabulary size\n",
    "embedding_size = 10  # Size of the word embeddings\n",
    "window_size = 1  # Context window size"
   ]
  },
  {
   "cell_type": "code",
   "execution_count": 25,
   "id": "efa6b22c",
   "metadata": {},
   "outputs": [
    {
     "name": "stdout",
     "output_type": "stream",
     "text": [
      "[[1, 4], [3, 5], [4, 1], [5, 6], [1, 8], [7, 2], [8, 1], [2, 9], [1, 11], [10, 2], [11, 1], [2, 12]] \n",
      " [3, 4, 5, 1, 7, 8, 2, 1, 10, 11, 2, 1]\n"
     ]
    }
   ],
   "source": [
    "# Generate context-target pairs\n",
    "contexts = [] # context words\n",
    "targets = [] # center word\n",
    "\n",
    "for sequence in sequences:\n",
    "    for i in range(window_size, len(sequence) - window_size):\n",
    "        context = sequence[i-window_size:i] + sequence[i+1:i+window_size+1]\n",
    "        target = sequence[i]\n",
    "        contexts.append(context)\n",
    "        targets.append(target)\n",
    "\n",
    "print(contexts, '\\n', targets)"
   ]
  },
  {
   "cell_type": "code",
   "execution_count": 26,
   "id": "19fa7d5b",
   "metadata": {},
   "outputs": [],
   "source": [
    "# Create Dataset and DataLoader\n",
    "class CBOWDataset(Dataset):\n",
    "    def __init__(self, contexts, targets):\n",
    "        self.contexts = torch.tensor(contexts, dtype=torch.long)\n",
    "        self.targets = torch.tensor(targets, dtype=torch.long)\n",
    "\n",
    "    def __len__(self):\n",
    "        return len(self.targets)\n",
    "\n",
    "    def __getitem__(self, idx):\n",
    "        return self.contexts[idx], self.targets[idx]\n",
    "    \n",
    "dataset = CBOWDataset(contexts, targets)\n",
    "dataloader = DataLoader(dataset, batch_size=2, shuffle=True)"
   ]
  },
  {
   "cell_type": "code",
   "execution_count": 27,
   "id": "c234700c",
   "metadata": {},
   "outputs": [],
   "source": [
    "# Define CBOW model in PyTorch\n",
    "class CBOWModel(nn.Module):\n",
    "    def __init__(self, vocab_size, embedding_size):\n",
    "        super(CBOWModel, self).__init__()\n",
    "        self.embeddings = nn.Embedding(vocab_size, embedding_size)\n",
    "        self.linear = nn.Linear(embedding_size, vocab_size)\n",
    "\n",
    "    def forward(self, inputs):\n",
    "        embedded = self.embeddings(inputs)  # Get embeddings for the context words\n",
    "        # Take the average of the context word embeddings\n",
    "        embedded_mean = embedded.mean(dim=1)\n",
    "        out = self.linear(embedded_mean)  # Feed to linear layer to get word probabilities\n",
    "        return out\n",
    "    \n",
    "    def get_weights(self):\n",
    "        \"\"\"Get model weights as tensors\"\"\"\n",
    "        return [self.embeddings.weight.data]#, self.linear.weight.data, self.linear.bias.data]"
   ]
  },
  {
   "cell_type": "code",
   "execution_count": 28,
   "id": "1c4e21d2",
   "metadata": {},
   "outputs": [],
   "source": [
    "# Initialize the model, loss function, and optimizer\n",
    "model = CBOWModel(vocab_size=vocab_size, embedding_size=embedding_size)\n",
    "criterion = nn.CrossEntropyLoss()\n",
    "optimizer = optim.Adam(model.parameters(), lr=0.01)"
   ]
  },
  {
   "cell_type": "code",
   "execution_count": 29,
   "id": "f749afcc",
   "metadata": {},
   "outputs": [
    {
     "name": "stdout",
     "output_type": "stream",
     "text": [
      "Epoch 0, Loss: 2.575410763422648\n",
      "Epoch 10, Loss: 1.262436290582021\n",
      "Epoch 20, Loss: 0.6937621136506399\n",
      "Epoch 30, Loss: 0.48603611439466476\n",
      "Epoch 40, Loss: 0.4274365020294984\n",
      "Epoch 50, Loss: 0.4127255119383335\n",
      "Epoch 60, Loss: 0.39396259002387524\n",
      "Epoch 70, Loss: 0.38018758098284405\n",
      "Epoch 80, Loss: 0.38295874232426286\n",
      "Epoch 90, Loss: 0.37228934932500124\n"
     ]
    }
   ],
   "source": [
    "# Training loop\n",
    "epochs = 100\n",
    "for epoch in range(epochs):\n",
    "    total_loss = 0\n",
    "    for context, target in dataloader:\n",
    "        optimizer.zero_grad()\n",
    "        output = model(context)\n",
    "        loss = criterion(output, target)\n",
    "        loss.backward()\n",
    "        optimizer.step()\n",
    "        total_loss += loss.item()\n",
    "    \n",
    "    if epoch % 10 == 0:\n",
    "        print(f'Epoch {epoch}, Loss: {total_loss/len(dataloader)}')"
   ]
  },
  {
   "cell_type": "code",
   "execution_count": 35,
   "id": "46210c62",
   "metadata": {},
   "outputs": [
    {
     "name": "stdout",
     "output_type": "stream",
     "text": [
      "torch.Size([13, 10]) \n",
      " tensor([[ 0.7374, -0.3716,  0.8979, -0.4254,  0.3047,  0.6900, -0.1329, -1.0195,\n",
      "         -0.4236, -0.9277],\n",
      "        [-0.7763,  2.5665, -0.2802, -0.6883,  0.6247,  1.4601, -0.3857,  0.4477,\n",
      "         -1.6629, -0.4785],\n",
      "        [-1.8174, -2.1687,  0.0359, -1.6331, -1.7624,  0.5142,  0.1069,  0.5297,\n",
      "          1.5707,  0.7969],\n",
      "        [ 1.8309, -3.0454,  0.3255,  1.1568, -0.8623,  1.9370,  3.0266,  0.3762,\n",
      "          0.5319, -1.7579],\n",
      "        [ 0.2370,  1.9585, -1.6448,  1.0221,  1.8336,  0.1951,  1.5079,  1.3291,\n",
      "          0.8192, -2.5984],\n",
      "        [-0.7512, -1.0665,  1.3403, -0.6524, -0.9383,  0.7350,  2.0867, -3.1489,\n",
      "          1.9744, -0.7293],\n",
      "        [-2.7963, -0.4078, -0.9358, -1.2386, -0.7744,  2.7861,  0.7542, -0.0577,\n",
      "          1.1260,  1.2153],\n",
      "        [ 1.6155, -1.7798,  1.9688, -0.1993, -0.7554,  2.9077, -1.4282,  1.1367,\n",
      "          0.2061, -0.7471],\n",
      "        [-0.8398, -0.2886,  2.7281,  2.8397,  1.5317,  1.0738, -1.4453, -1.0673,\n",
      "         -2.1801,  1.6575],\n",
      "        [-0.6235, -0.4198, -2.2324, -1.6044, -1.1046,  0.5271,  1.7173, -2.6901,\n",
      "         -1.1696,  0.7679],\n",
      "        [-3.1559,  0.5793, -0.6926,  2.5477, -0.4299, -1.6377,  1.6546,  1.3986,\n",
      "          0.7155,  1.7917],\n",
      "        [-2.5975,  0.4581,  0.7278, -0.1081,  2.0819,  0.7557, -3.3254,  1.9111,\n",
      "         -1.4792,  2.4440],\n",
      "        [ 0.1246,  0.0727, -1.2025, -0.7528,  0.4341,  1.7701,  2.2620, -2.3278,\n",
      "         -0.9609,  1.6841]])\n"
     ]
    }
   ],
   "source": [
    "print(model.get_weights()[0].shape, '\\n', model.get_weights()[0])  "
   ]
  },
  {
   "cell_type": "code",
   "execution_count": 30,
   "id": "35d85517",
   "metadata": {},
   "outputs": [
    {
     "data": {
      "image/png": "[encoded data removed]",
      "text/plain": [
       "<Figure size 600x600 with 1 Axes>"
      ]
     },
     "metadata": {},
     "output_type": "display_data"
    }
   ],
   "source": [
    "# Get the word embeddings from the trained CBOW model\n",
    "embeddings = model.get_weights()[0]\n",
    "\n",
    "# Use PCA to reduce dimensionality\n",
    "pca = PCA(n_components=2)\n",
    "reduced_embeddings = pca.fit_transform(embeddings)\n",
    "\n",
    "# Visualize the word embeddings\n",
    "plt.figure(figsize=(6,6))\n",
    "for i, word in enumerate(tokenizer.word_index.keys()):\n",
    "    x, y = reduced_embeddings[i]\n",
    "    plt.scatter(x, y)\n",
    "    plt.annotate(word, (x, y), textcoords=\"offset points\", xytext=(5,2), \n",
    "                                                              ha='right')\n",
    "plt.show()"
   ]
  }
 ],
 "metadata": {
  "kernelspec": {
   "display_name": "ai_env",
   "language": "python",
   "name": "python3"
  },
  "language_info": {
   "codemirror_mode": {
    "name": "ipython",
    "version": 3
   },
   "file_extension": ".py",
   "mimetype": "text/x-python",
   "name": "python",
   "nbconvert_exporter": "python",
   "pygments_lexer": "ipython3",
   "version": "3.10.18"
  }
 },
 "nbformat": 4,
 "nbformat_minor": 5
}
