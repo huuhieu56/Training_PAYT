{
 "cells": [
  {
   "cell_type": "code",
   "execution_count": 86,
   "id": "f68c5670",
   "metadata": {},
   "outputs": [],
   "source": [
    "import torch\n",
    "import torch.nn as nn\n",
    "import torch.optim as optim\n",
    "from torch.utils.data import Dataset, DataLoader\n",
    "from sklearn.decomposition import PCA\n",
    "import numpy as np\n",
    "import matplotlib.pyplot as plt\n",
    "from sklearn.preprocessing import LabelEncoder\n",
    "from collections import Counter\n",
    "from tensorflow.keras.preprocessing.text import Tokenizer"
   ]
  },
  {
   "cell_type": "code",
   "execution_count": 87,
   "id": "77846c2d",
   "metadata": {},
   "outputs": [],
   "source": [
    "# Define the corpus\n",
    "corpus = ['The cat sat on the mat',\n",
    "          'The dog ran in the park',\n",
    "          'The bird sang in the tree']\n"
   ]
  },
  {
   "cell_type": "code",
   "execution_count": 88,
   "id": "65f89580",
   "metadata": {},
   "outputs": [
    {
     "name": "stdout",
     "output_type": "stream",
     "text": [
      "Sequences of words in the corpus: [[1, 3, 4, 5, 1, 6], [1, 7, 8, 2, 1, 9], [1, 10, 11, 2, 1, 12]]\n"
     ]
    }
   ],
   "source": [
    "tokenizer = Tokenizer()\n",
    "tokenizer.fit_on_texts(corpus)\n",
    "sequences = tokenizer.texts_to_sequences(corpus)\n",
    "\n",
    "print(\"Sequences of words in the corpus:\", sequences)"
   ]
  },
  {
   "cell_type": "code",
   "execution_count": 89,
   "id": "8f7b593b",
   "metadata": {},
   "outputs": [],
   "source": [
    "# Parameters\n",
    "vocab_size = len(tokenizer.word_index) + 1  # Vocabulary size\n",
    "embedding_size = 10  # Size of the word embeddings\n",
    "window_size = 2  # Context window size"
   ]
  },
  {
   "cell_type": "code",
   "execution_count": 90,
   "id": "f8ef5bd2",
   "metadata": {},
   "outputs": [
    {
     "name": "stdout",
     "output_type": "stream",
     "text": [
      "Vocab size: 13\n",
      "word2idx: {'the': 1, 'in': 2, 'cat': 3, 'sat': 4, 'on': 5, 'mat': 6, 'dog': 7, 'ran': 8, 'park': 9, 'bird': 10, 'sang': 11, 'tree': 12}\n"
     ]
    }
   ],
   "source": [
    "word2idx = tokenizer.word_index   # word -> index (bắt đầu từ 1)\n",
    "idx2word = {v:k for k,v in word2idx.items()}\n",
    "vocab_size = len(word2idx) + 1    # +1 vì padding = 0\n",
    "\n",
    "print(\"Vocab size:\", vocab_size)\n",
    "print(\"word2idx:\", word2idx)\n",
    "\n",
    "# 3. Skip-gram dataset (multi-label)\n",
    "class SkipGramDataset(Dataset):\n",
    "    def __init__(self, sequences, vocab_size, window_size=2):\n",
    "        self.data = []\n",
    "        for seq in sequences:\n",
    "            for i in range(window_size, len(seq) - window_size):\n",
    "                center = seq[i]\n",
    "                context = seq[i-window_size:i] + seq[i+1:i+window_size+1]\n",
    "                label = torch.zeros(vocab_size)\n",
    "                for c in context:\n",
    "                    label[c] = 1   # multi-hot vector\n",
    "                self.data.append((center, label))\n",
    "    \n",
    "    def __len__(self):\n",
    "        return len(self.data)\n",
    "    \n",
    "    def __getitem__(self, idx):\n",
    "        return self.data[idx]"
   ]
  },
  {
   "cell_type": "code",
   "execution_count": 91,
   "id": "fb1dd33a",
   "metadata": {},
   "outputs": [],
   "source": [
    "dataset = SkipGramDataset(sequences, vocab_size, window_size=window_size)\n",
    "dataloader = DataLoader(dataset, batch_size=2, shuffle=True)"
   ]
  },
  {
   "cell_type": "code",
   "execution_count": 92,
   "id": "c3c1b77e",
   "metadata": {},
   "outputs": [],
   "source": [
    "# Define Skip-gram model in PyTorch\n",
    "class SkipGramModel(nn.Module):\n",
    "    def __init__(self, vocab_size, embedding_size):\n",
    "        super(SkipGramModel, self).__init__()\n",
    "        self.embeddings = nn.Embedding(vocab_size, embedding_size)\n",
    "        self.linear = nn.Linear(embedding_size, vocab_size)\n",
    "\n",
    "    def forward(self, inputs):\n",
    "        # inputs = center word\n",
    "        embedded = self.embeddings(inputs)  \n",
    "        out = self.linear(embedded)        \n",
    "        return out\n",
    "    \n",
    "    def get_weights(self):\n",
    "        \"\"\"Get model weights as tensors\"\"\"\n",
    "        return [self.embeddings.weight.data]\n",
    "\n",
    "    "
   ]
  },
  {
   "cell_type": "code",
   "execution_count": 93,
   "id": "45fd1e3b",
   "metadata": {},
   "outputs": [],
   "source": [
    "model = SkipGramModel(vocab_size=vocab_size, embedding_size=embedding_size)\n",
    "criterion = nn.BCEWithLogitsLoss()  # multi-label classification\n",
    "optimizer = optim.Adam(model.parameters(), lr=0.01)"
   ]
  },
  {
   "cell_type": "code",
   "execution_count": 94,
   "id": "be3111cf",
   "metadata": {},
   "outputs": [
    {
     "name": "stdout",
     "output_type": "stream",
     "text": [
      "Epoch 0, Loss: 0.6955760916074117\n",
      "Epoch 10, Loss: 0.4020414352416992\n",
      "Epoch 20, Loss: 0.28393377860387164\n",
      "Epoch 30, Loss: 0.21599498391151428\n",
      "Epoch 40, Loss: 0.17326688518126807\n",
      "Epoch 50, Loss: 0.14863790074984232\n",
      "Epoch 60, Loss: 0.13579452161987624\n",
      "Epoch 70, Loss: 0.12683395172158876\n",
      "Epoch 80, Loss: 0.12211745542784531\n",
      "Epoch 90, Loss: 0.11863732958833377\n"
     ]
    }
   ],
   "source": [
    "# Training loop\n",
    "epochs = 100\n",
    "for epoch in range(epochs):\n",
    "    total_loss = 0\n",
    "    for center_word, context_word in dataloader:  # center_word -> context_word\n",
    "        optimizer.zero_grad()\n",
    "        output = model(center_word)               # predict context from center\n",
    "        # print(\"output = \", output)\n",
    "        # print(\"context_word = \", context_word)\n",
    "        loss = criterion(output, context_word)    # compare with actual context\n",
    "        loss.backward()\n",
    "        optimizer.step()\n",
    "        total_loss += loss.item()\n",
    "    \n",
    "    if epoch % 10 == 0:\n",
    "        print(f'Epoch {epoch}, Loss: {total_loss/len(dataloader)}')"
   ]
  },
  {
   "cell_type": "code",
   "execution_count": 95,
   "id": "192f2512",
   "metadata": {},
   "outputs": [
    {
     "data": {
      "image/png": "[encoded data removed]",
      "text/plain": [
       "<Figure size 600x600 with 1 Axes>"
      ]
     },
     "metadata": {},
     "output_type": "display_data"
    }
   ],
   "source": [
    "# Get the word embeddings from the trained CBOW model\n",
    "embeddings = model.get_weights()[0]\n",
    "\n",
    "# Use PCA to reduce dimensionality\n",
    "pca = PCA(n_components=2)\n",
    "reduced_embeddings = pca.fit_transform(embeddings)\n",
    "\n",
    "# Visualize the word embeddings\n",
    "plt.figure(figsize=(6,6))\n",
    "for i, word in enumerate(tokenizer.word_index.keys()):\n",
    "    x, y = reduced_embeddings[i]\n",
    "    plt.scatter(x, y)\n",
    "    plt.annotate(word, (x, y), textcoords=\"offset points\", xytext=(5,2), \n",
    "                                                              ha='right')\n",
    "plt.show()"
   ]
  }
 ],
 "metadata": {
  "kernelspec": {
   "display_name": "ai_env",
   "language": "python",
   "name": "python3"
  },
  "language_info": {
   "codemirror_mode": {
    "name": "ipython",
    "version": 3
   },
   "file_extension": ".py",
   "mimetype": "text/x-python",
   "name": "python",
   "nbconvert_exporter": "python",
   "pygments_lexer": "ipython3",
   "version": "3.10.18"
  }
 },
 "nbformat": 4,
 "nbformat_minor": 5
}
