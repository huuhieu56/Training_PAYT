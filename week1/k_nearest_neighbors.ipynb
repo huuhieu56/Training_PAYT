{
 "cells": [
  {
   "cell_type": "markdown",
   "id": "f402e27f",
   "metadata": {},
   "source": [
    "- import các thư viện"
   ]
  },
  {
   "cell_type": "code",
   "execution_count": 82,
   "id": "1cf17fae",
   "metadata": {},
   "outputs": [],
   "source": [
    "import numpy as np\n",
    "import pandas as pd\n",
    "import matplotlib.pyplot as plt\n",
    "from sklearn.model_selection import train_test_split    \n",
    "from sklearn.preprocessing import LabelEncoder\n"
   ]
  },
  {
   "cell_type": "code",
   "execution_count": 83,
   "id": "67f98d7a",
   "metadata": {},
   "outputs": [],
   "source": [
    "np.random.seed(42)"
   ]
  },
  {
   "cell_type": "markdown",
   "id": "1452805c",
   "metadata": {},
   "source": [
    "- KNN scratch"
   ]
  },
  {
   "cell_type": "code",
   "execution_count": 84,
   "id": "d3800221",
   "metadata": {},
   "outputs": [],
   "source": [
    "class KNearestNeighbors:\n",
    "    def __init__(self, k=3):\n",
    "        self.k = k\n",
    "        self.data = None\n",
    "        self.labels = None\n",
    "\n",
    "    def fit(self, data, labels):\n",
    "        self.data = data\n",
    "        self.labels = labels\n",
    "\n",
    "    def predict(self, point):\n",
    "        # Tính khoảng cách Euclidean từ điểm đến tất cả các điểm trong tập huấn luyện\n",
    "        distances = np.linalg.norm(self.data - point, axis=1)\n",
    "        # Lấy chỉ số của k điểm gần nhất\n",
    "        nearest_indices = np.argsort(distances)[:self.k]\n",
    "        # Lấy nhãn của các điểm gần nhất\n",
    "        nearest_labels = self.labels[nearest_indices]\n",
    "        # Trả về nhãn phổ biến nhất trong số các nhãn gần nhất\n",
    "        return np.bincount(nearest_labels).argmax()\n",
    "\n",
    "    def score(self, test_data, test_labels):\n",
    "        # Dự đoán nhãn cho tất cả các điểm trong tập kiểm tra\n",
    "        predictions = [self.predict(point) for point in test_data]\n",
    "        return np.mean(predictions == test_labels)"
   ]
  },
  {
   "cell_type": "code",
   "execution_count": 85,
   "id": "414acd98",
   "metadata": {},
   "outputs": [],
   "source": [
    "df = pd.read_csv('data/iris.csv')\n",
    "df.drop('Id', axis=1, inplace=True)"
   ]
  },
  {
   "cell_type": "code",
   "execution_count": 86,
   "id": "4533518e",
   "metadata": {},
   "outputs": [],
   "source": [
    "X = df.drop('Species', axis=1).values\n",
    "y = df['Species'].values\n",
    "y = LabelEncoder().fit_transform(y)"
   ]
  },
  {
   "cell_type": "code",
   "execution_count": 87,
   "id": "cb19b177",
   "metadata": {},
   "outputs": [],
   "source": [
    "# Chia dữ liệu thành tập huấn luyện và tập kiểm tra\n",
    "X_train, X_test, y_train, y_test = train_test_split(X, y, test_size=0.2, random_state=42)"
   ]
  },
  {
   "cell_type": "code",
   "execution_count": 88,
   "id": "7b2b8d43",
   "metadata": {},
   "outputs": [
    {
     "name": "stdout",
     "output_type": "stream",
     "text": [
      "Model accuracy: 100.00%\n"
     ]
    }
   ],
   "source": [
    "model = KNearestNeighbors(k=5)\n",
    "model.fit(X_train, y_train)\n",
    "accuracy = model.score(X_test, y_test)\n",
    "print(f\"Model accuracy: {accuracy * 100:.2f}%\")"
   ]
  },
  {
   "cell_type": "markdown",
   "id": "761bbac8",
   "metadata": {},
   "source": [
    "- So sánh với KNN từ sklearn"
   ]
  },
  {
   "cell_type": "code",
   "execution_count": 89,
   "id": "6cb8ff78",
   "metadata": {},
   "outputs": [],
   "source": [
    "from sklearn.neighbors import KNeighborsClassifier"
   ]
  },
  {
   "cell_type": "code",
   "execution_count": 90,
   "id": "a3854c07",
   "metadata": {},
   "outputs": [
    {
     "name": "stdout",
     "output_type": "stream",
     "text": [
      "Model accuracy using sklearn: 100.00%\n"
     ]
    }
   ],
   "source": [
    "model = KNeighborsClassifier(n_neighbors=5)\n",
    "model.fit(X_train, y_train)\n",
    "accuracy = model.score(X_test, y_test)\n",
    "print(f\"Model accuracy using sklearn: {accuracy * 100:.2f}%\")"
   ]
  },
  {
   "cell_type": "code",
   "execution_count": null,
   "id": "49f7ab2d",
   "metadata": {},
   "outputs": [],
   "source": []
  }
 ],
 "metadata": {
  "kernelspec": {
   "display_name": "ai_env",
   "language": "python",
   "name": "python3"
  },
  "language_info": {
   "codemirror_mode": {
    "name": "ipython",
    "version": 3
   },
   "file_extension": ".py",
   "mimetype": "text/x-python",
   "name": "python",
   "nbconvert_exporter": "python",
   "pygments_lexer": "ipython3",
   "version": "3.10.18"
  }
 },
 "nbformat": 4,
 "nbformat_minor": 5
}
